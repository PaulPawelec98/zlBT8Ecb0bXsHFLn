





%%capture

import pandas as pd

import os
import sys
from pathlib import Path

path = r'E:\MyStuff\Projects\Apziva\123123123123234234'
os.chdir(path)

from apzivaproject3.config import (
    PROCESSED_DATA_DIR,
    MODELS_DIR,
    )


from collections import Counter





# final dataset with scores/fitness
df = pd.read_csv(PROCESSED_DATA_DIR / 'df_with_scores.csv')


# cleaned corpus text
with open(PROCESSED_DATA_DIR / "corpus.txt", 'r') as file:
    corpus = file.read()
    
corpus_list = corpus.split(" ")


Counter(corpus_list).most_common()[:10]











import torch
embeddings = torch.load(str(MODELS_DIR / "mybert/mysbertembeddings.pt"))


from sklearn.decomposition import PCA
from sklearn.preprocessing import StandardScaler

# Standardizing the features
scaler = StandardScaler()
data_scaled = scaler.fit_transform(embeddings)

# Apply PCA to reduce to 3 components
pca = PCA(n_components=3)
principal_components = pca.fit_transform(data_scaled)


principal_components.shape


texts = list(df.job_title_string)
texts.append('aspiring human resources')
len(texts)


# sort for nearest connections
df_sorted = df.copy()
df_sorted = df_sorted.sort_values(by="sbert", ascending=False)
df_sorted.index
principal_components_sorted = principal_components.copy()
principal_components_sorted = principal_components_sorted[df_sorted.index]
principal_components_sorted


# Import dependencies
import plotly
import plotly.graph_objs as go

# Configure Plotly to be rendered inline in the notebook.
plotly.offline.init_notebook_mode()



# Configure the trace.
scatter_trace = go.Scatter3d(
    x=principal_components[:-1,0],  # <-- Put your data instead
    y=principal_components[:-1,1],  # <-- Put your data instead
    z=principal_components[:-1,2],  # <-- Put your data instead
    mode='markers',
    text=texts,
    marker={'size': 5, 'opacity': 0.8, 'color': 'blue'},  # Color target point red, others blue
    hoverinfo='text'  # Only show text when hovered
)

# Add a label at the specific target point
target_trace = go.Scatter3d(
    x=[principal_components[-1, 0]],  # X coordinate of the target point
    y=[principal_components[-1, 1]],  # Y coordinate of the target point
    z=[principal_components[-1, 2]],  # Z coordinate of the target point
    mode='markers+text',  # Only display text
    text=texts[-1].upper(),  # The label text
    textposition='top center',  # Position of the label
    textfont=dict(
        family='Arial',  # You can customize the font here
        size=12,         # Adjust font size
        color='black',   # Adjust font color
        weight='bold'    # Make the text bold
    ),
    marker={'size': 15, 'color': 'red'},  # Red marker for the target point
)

# Function to create line traces to the best scores
def create_lines(k):
    lines = []
    for i in range(1, k + 1):  # Exclude the target point itself
        
        line_trace = go.Scatter3d(
            x=[principal_components[-1, 0], principal_components_sorted[i, 0]],
            y=[principal_components[-1, 1], principal_components_sorted[i, 1]],
            z=[principal_components[-1, 2], principal_components_sorted[i, 2]],
            mode='lines',
            hoverinfo="none",
            line=dict(color='red', width=5),
            showlegend=False
        )
        lines.append(line_trace)
        
    return lines

# Initialize with only 1 connection
initial_lines = create_lines(1)

# Configure the layout.
layout = go.Layout(
    title="3D Scatter Plot: BERT Embeddings",
    scene={
        'xaxis': {'title': 'PC 1'},  # Label for the x-axis
        'yaxis': {'title': 'PC 2'},  # Label for the y-axis
        'zaxis': {'title': 'PC 3'}   # Label for the z-axis
    },
    margin={'l': 0, 'r': 0, 'b': 0, 't': 40},  # Adjust margin for the title
    hovermode='closest',  # Enable hover on the closest point
)


data = [scatter_trace, target_trace] + initial_lines

fig = go.Figure(data=data, layout=layout)

# Render the plot.
plotly.offline.iplot(fig)


len(principal_components)



